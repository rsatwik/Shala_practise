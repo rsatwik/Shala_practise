{
  "nbformat": 4,
  "nbformat_minor": 0,
  "metadata": {
    "colab": {
      "name": "L1.ipynb",
      "provenance": [],
      "collapsed_sections": []
    },
    "kernelspec": {
      "name": "python3",
      "display_name": "Python 3"
    }
  },
  "cells": [
    {
      "cell_type": "markdown",
      "metadata": {
        "id": "hmr2U-GChnlR",
        "colab_type": "text"
      },
      "source": [
        "\n",
        "# **Assignment - 1 : Getting Started**\n",
        "\n",
        "---\n",
        "\n",
        "This assignment will get you familiarized with python libraries required for ***data science*** and ***machine learning***. You will have to complete the code snippets and run them. "
      ]
    },
    {
      "cell_type": "markdown",
      "metadata": {
        "id": "211pD45xEO0u",
        "colab_type": "text"
      },
      "source": [
        "## **Note :**   Use only the methods and attributes of the ```numpy``` library. **Do not** hard-code them. Avoid loops as much as possible."
      ]
    },
    {
      "cell_type": "markdown",
      "metadata": {
        "id": "O7v9C4mun3SQ",
        "colab_type": "text"
      },
      "source": [
        "---\n",
        "## Part - 1\n",
        " In this part, you will work with the library ```numpy```. \n",
        "\n",
        "\n"
      ]
    },
    {
      "cell_type": "markdown",
      "metadata": {
        "id": "846yDaXQwiMD",
        "colab_type": "text"
      },
      "source": [
        "Import ```numpy``` with an alias name ```np```. Initialize two arrays $a$, $b$ of size $3 \\times 5$ with random values and print them. "
      ]
    },
    {
      "cell_type": "code",
      "metadata": {
        "id": "_MyeCO3_o3oq",
        "colab_type": "code",
        "outputId": "e9558500-510f-4e1b-80de-464e28834e82",
        "colab": {
          "base_uri": "https://localhost:8080/",
          "height": 118
        }
      },
      "source": [
        "import numpy as np\n",
        "a = np.random.rand(3,5)\n",
        "b = np.random.rand(3,5)\n",
        "print(a)\n",
        "print(b)"
      ],
      "execution_count": 0,
      "outputs": [
        {
          "output_type": "stream",
          "text": [
            "[[0.22152521 0.82187929 0.91178091 0.94277268 0.35294334]\n",
            " [0.81449674 0.72568964 0.77949908 0.35485688 0.85916794]\n",
            " [0.05950728 0.30690618 0.82346764 0.99312114 0.18746123]]\n",
            "[[0.61951904 0.75441691 0.21279272 0.22161834 0.83587979]\n",
            " [0.40588931 0.43499115 0.56025528 0.74198686 0.87713091]\n",
            " [0.76249661 0.29720559 0.10573285 0.42687992 0.76835391]]\n"
          ],
          "name": "stdout"
        }
      ]
    },
    {
      "cell_type": "markdown",
      "metadata": {
        "id": "p7jtpYT4wiO6",
        "colab_type": "text"
      },
      "source": [
        "Initialize and print two arrays $c$ and $d$ having the following properties:\n",
        "*   $c$ is a row vector with all non-negative integer values less than 100\n",
        "* $d$ is a square matrix of size 3 having all entries as 0.0"
      ]
    },
    {
      "cell_type": "code",
      "metadata": {
        "id": "a2lJdRf8x9f2",
        "colab_type": "code",
        "outputId": "b7d53062-d11b-41cb-9664-a9c3cf438741",
        "colab": {
          "base_uri": "https://localhost:8080/",
          "height": 151
        }
      },
      "source": [
        "c = np.arange(0,100)\n",
        "d = np.zeros(shape=(3,3))\n",
        "print(c)\n",
        "print(d)"
      ],
      "execution_count": 0,
      "outputs": [
        {
          "output_type": "stream",
          "text": [
            "[ 0  1  2  3  4  5  6  7  8  9 10 11 12 13 14 15 16 17 18 19 20 21 22 23\n",
            " 24 25 26 27 28 29 30 31 32 33 34 35 36 37 38 39 40 41 42 43 44 45 46 47\n",
            " 48 49 50 51 52 53 54 55 56 57 58 59 60 61 62 63 64 65 66 67 68 69 70 71\n",
            " 72 73 74 75 76 77 78 79 80 81 82 83 84 85 86 87 88 89 90 91 92 93 94 95\n",
            " 96 97 98 99]\n",
            "[[0. 0. 0.]\n",
            " [0. 0. 0.]\n",
            " [0. 0. 0.]]\n"
          ],
          "name": "stdout"
        }
      ]
    },
    {
      "cell_type": "markdown",
      "metadata": {
        "id": "qqgtSsa88Zmh",
        "colab_type": "text"
      },
      "source": [
        "We have $e$ as following : ```e = [[1,2,3],[4,5,6],[7,8,9]]```. Change $e$ as a numpy array and print it."
      ]
    },
    {
      "cell_type": "code",
      "metadata": {
        "id": "Krhm4bVE7RET",
        "colab_type": "code",
        "outputId": "05d3d9ef-6a04-4893-a114-e0f60218feeb",
        "colab": {
          "base_uri": "https://localhost:8080/",
          "height": 67
        }
      },
      "source": [
        "e = [[1,2,3],[4,5,6],[7,8,9]]\n",
        "e = np.asarray(e)\n",
        "print(e)"
      ],
      "execution_count": 0,
      "outputs": [
        {
          "output_type": "stream",
          "text": [
            "[[1 2 3]\n",
            " [4 5 6]\n",
            " [7 8 9]]\n"
          ],
          "name": "stdout"
        }
      ]
    },
    {
      "cell_type": "markdown",
      "metadata": {
        "id": "1qTikI0foam9",
        "colab_type": "text"
      },
      "source": [
        "$f$ and $g$ are two square matrices of size 5 such that all the entries of $f$ are 1 and $g$ is an identity matrix. Initialize them and print them"
      ]
    },
    {
      "cell_type": "code",
      "metadata": {
        "id": "DvaLckI49aBV",
        "colab_type": "code",
        "outputId": "a90d8764-4bc7-414f-cda5-4d9ffa9350b9",
        "colab": {
          "base_uri": "https://localhost:8080/",
          "height": 185
        }
      },
      "source": [
        "f = np.ones(shape=(5,5))\n",
        "g = np.eye(N=5)\n",
        "print(f)\n",
        "print(g)"
      ],
      "execution_count": 0,
      "outputs": [
        {
          "output_type": "stream",
          "text": [
            "[[1. 1. 1. 1. 1.]\n",
            " [1. 1. 1. 1. 1.]\n",
            " [1. 1. 1. 1. 1.]\n",
            " [1. 1. 1. 1. 1.]\n",
            " [1. 1. 1. 1. 1.]]\n",
            "[[1. 0. 0. 0. 0.]\n",
            " [0. 1. 0. 0. 0.]\n",
            " [0. 0. 1. 0. 0.]\n",
            " [0. 0. 0. 1. 0.]\n",
            " [0. 0. 0. 0. 1.]]\n"
          ],
          "name": "stdout"
        }
      ]
    },
    {
      "cell_type": "markdown",
      "metadata": {
        "id": "gcBZAZibAKcg",
        "colab_type": "text"
      },
      "source": [
        "Reshape $c$ into a $10 \\times 10$ matrix and name it $h$. Now flatten $h$, call it $c^\\prime$ and print **YES** when the shapes of $c$ and $c^\\prime$ are same. Otherwise print **NO**."
      ]
    },
    {
      "cell_type": "code",
      "metadata": {
        "id": "I71vtO9bA9Pi",
        "colab_type": "code",
        "outputId": "28341639-5248-4e6a-8ee9-a7ac625c30e3",
        "colab": {
          "base_uri": "https://localhost:8080/",
          "height": 34
        }
      },
      "source": [
        "h = c.reshape((10,10))\n",
        "c_prime = h.flatten()\n",
        "if c.shape == c_prime.shape:\n",
        "    print('YES')\n",
        "else:\n",
        "    print('NO')"
      ],
      "execution_count": 0,
      "outputs": [
        {
          "output_type": "stream",
          "text": [
            "YES\n"
          ],
          "name": "stdout"
        }
      ]
    },
    {
      "cell_type": "markdown",
      "metadata": {
        "id": "8FrecDPiA-Bv",
        "colab_type": "text"
      },
      "source": [
        "Let $A$ denote a randomly initialized three dimensional matrix of shape (2,10,5). Transpose $A$, call it $A^\\prime$, such that its shape is (5,2,10) and print it."
      ]
    },
    {
      "cell_type": "code",
      "metadata": {
        "id": "VbOKqSm6Bkaq",
        "colab_type": "code",
        "outputId": "657b95da-1c1f-4b3f-d757-2ae22572fed0",
        "colab": {
          "base_uri": "https://localhost:8080/",
          "height": 420
        }
      },
      "source": [
        "A = np.random.rand(2,10,5)\n",
        "A1 = np.transpose(A,axes=(2,0,1))\n",
        "print(A1)"
      ],
      "execution_count": 0,
      "outputs": [
        {
          "output_type": "stream",
          "text": [
            "[[[0.30042305 0.05682251 0.6310247  0.40973031 0.6895228  0.80958399\n",
            "   0.74239256 0.3146561  0.87015688 0.84926661]\n",
            "  [0.39570357 0.32071202 0.9579616  0.33811513 0.14174772 0.40026178\n",
            "   0.53700135 0.82974651 0.26159637 0.6114548 ]]\n",
            "\n",
            " [[0.07870829 0.84667423 0.8961456  0.82411876 0.54086524 0.4816251\n",
            "   0.22594297 0.18618886 0.36274701 0.28042719]\n",
            "  [0.34310274 0.04019108 0.12816284 0.69033366 0.29665465 0.82579126\n",
            "   0.67398765 0.42808296 0.10892288 0.74398675]]\n",
            "\n",
            " [[0.7092626  0.09967982 0.81283323 0.19485697 0.57219122 0.32223602\n",
            "   0.44378557 0.69268492 0.82470904 0.15012533]\n",
            "  [0.54952482 0.8331348  0.46530078 0.90175492 0.54992839 0.904557\n",
            "   0.88119141 0.38361001 0.35212919 0.65864671]]\n",
            "\n",
            " [[0.22502728 0.78049467 0.66019704 0.08288941 0.37553546 0.71527895\n",
            "   0.72385496 0.15655626 0.34052917 0.08453409]\n",
            "  [0.66784801 0.45744279 0.16404666 0.89545583 0.07554595 0.65317445\n",
            "   0.54272831 0.58411419 0.07205835 0.01030277]]\n",
            "\n",
            " [[0.43936048 0.10317819 0.41362347 0.56006778 0.2826369  0.714209\n",
            "   0.72450715 0.15624976 0.51633838 0.61047224]\n",
            "  [0.60908392 0.67129738 0.55287013 0.32628766 0.04347451 0.51724852\n",
            "   0.94991414 0.79828385 0.8817083  0.73820737]]]\n"
          ],
          "name": "stdout"
        }
      ]
    },
    {
      "cell_type": "markdown",
      "metadata": {
        "id": "xR2zd-nkCani",
        "colab_type": "text"
      },
      "source": [
        "You have a matrix $X$ of size (10,5) filled with random values. Print the following :\n",
        "* Minimum value and index where it occured, for each column\n",
        "* Maximum value and the index where it occured, for each column\n",
        "* Minimum value and index where it occured, for each row\n",
        "* Maximum value and index where it occured, for each row\n",
        "* Minimum value and index where it occured, for the entire matrix\n",
        "* Maximum value and index where it occured, for the entire matrix"
      ]
    },
    {
      "cell_type": "code",
      "metadata": {
        "id": "FR2Wd4fWD_Og",
        "colab_type": "code",
        "outputId": "d51ef885-c3f1-47fd-80c6-8ab50e67327e",
        "colab": {
          "base_uri": "https://localhost:8080/",
          "height": 151
        }
      },
      "source": [
        "np.random.seed(0)\n",
        "X = np.random.rand(10,5)\n",
        "print(X.min(axis=0), X.argmin(axis=0))\n",
        "print(X.max(axis=0), X.argmax(axis=0))\n",
        "print(X.min(axis=1), X.argmin(axis=1))\n",
        "print(X.max(axis=1), X.argmax(axis=1))\n",
        "print(X.min(), X.argmin())\n",
        "print(X.max(), X.argmax())\n"
      ],
      "execution_count": 0,
      "outputs": [
        {
          "output_type": "stream",
          "text": [
            "[0.0871293  0.0202184  0.1289263  0.06022547 0.0187898 ] [3 3 9 8 6]\n",
            "[0.97861834 0.79915856 0.94466892 0.96366276 0.87001215] [4 4 5 1 3]\n",
            "[0.4236548  0.38344152 0.07103606 0.0202184  0.11827443 0.14335329\n",
            " 0.0187898  0.61209572 0.06022547 0.1289263 ] [4 4 4 1 4 1 4 1 3 2]\n",
            "[0.71518937 0.96366276 0.92559664 0.87001215 0.97861834 0.94466892\n",
            " 0.77423369 0.94374808 0.6976312  0.67063787] [1 3 3 4 0 2 1 3 2 0]\n",
            "0.018789800436355142 34\n",
            "0.978618342232764 20\n"
          ],
          "name": "stdout"
        }
      ]
    },
    {
      "cell_type": "markdown",
      "metadata": {
        "id": "YpjW2ypkEGtS",
        "colab_type": "text"
      },
      "source": [
        "Find and print the following for the matrix X: \n",
        "* Mean of each row and column\n",
        "* Standard deviation of each row and column\n",
        "* Mean of the entire matrix\n",
        "* Standard deviation of entire matrix"
      ]
    },
    {
      "cell_type": "code",
      "metadata": {
        "id": "gMdm2pw0GWjf",
        "colab_type": "code",
        "outputId": "dd5316ea-8e0e-48b4-9d0b-63e7006c069b",
        "colab": {
          "base_uri": "https://localhost:8080/",
          "height": 118
        }
      },
      "source": [
        "print(X.mean(axis=1), X.mean(axis=0))\n",
        "print(X.std(axis=1), X.std(axis=0))\n",
        "print(X.mean())\n",
        "print(X.std())"
      ],
      "execution_count": 0,
      "outputs": [
        {
          "output_type": "stream",
          "text": [
            "[0.56706085 0.66447172 0.57705944 0.51762729 0.62761197 0.5328907\n",
            " 0.41643268 0.69444672 0.44423265 0.33781717] [0.56044382 0.46781457 0.62009909 0.64025127 0.40121685]\n",
            "[0.09445299 0.23322986 0.29189733 0.38052993 0.30431633 0.26338419\n",
            " 0.25841437 0.12727959 0.23169975 0.18537332] [0.24687647 0.25752158 0.22948615 0.28054144 0.26584905]\n",
            "0.5379651182755409\n",
            "0.27226582292177587\n"
          ],
          "name": "stdout"
        }
      ]
    },
    {
      "cell_type": "markdown",
      "metadata": {
        "id": "7dw7W8HOGXKA",
        "colab_type": "text"
      },
      "source": [
        "Let $Y$ denote a square matrix of size 10 with random values. Print the following:\n",
        "* Determinant\n",
        "* Rank of the matrix\n",
        "* Diagonal Elements\n",
        "* Trace\n",
        "* Eigen values\n",
        "* Matrices obtained after Singular Value Decomposition\n",
        "* Inverse if exists, otherwise Pseudo-Inverse\n",
        "* Multiplication $Y$ with $X$\n",
        "* Element-wise multiplication of $Y$ and its inverse(or pseudo-inverse)"
      ]
    },
    {
      "cell_type": "code",
      "metadata": {
        "id": "Tswbn9hgL7yi",
        "colab_type": "code",
        "outputId": "fce81c27-7213-4431-d505-6e653d88cfda",
        "colab": {
          "base_uri": "https://localhost:8080/",
          "height": 1000
        }
      },
      "source": [
        "np.random.seed(0)\n",
        "Y = np.random.rand(10,10)\n",
        "print(np.linalg.det(Y))\n",
        "print(np.linalg.matrix_rank(Y))\n",
        "print(np.diag(Y))\n",
        "print(np.trace(Y))\n",
        "print(np.linalg.eigvals(Y))\n",
        "print(np.linalg.svd(Y))\n",
        "print(np.linalg.pinv(Y))\n",
        "print(np.matmul(Y,X))\n",
        "print(np.dot(Y,np.linalg.pinv(Y)))"
      ],
      "execution_count": 0,
      "outputs": [
        {
          "output_type": "stream",
          "text": [
            "0.012191309322200526\n",
            "10\n",
            "[0.5488135  0.52889492 0.46147936 0.56843395 0.66676672 0.16130952\n",
            " 0.82099323 0.12019656 0.5759465  0.00469548]\n",
            "4.457529730942303\n",
            "[ 4.82560951+0.j          0.96051159+0.j          0.82240406+0.j\n",
            " -0.79839069+0.07484428j -0.79839069-0.07484428j -0.44630083+0.03292521j\n",
            " -0.44630083-0.03292521j  0.07378631+0.35314111j  0.07378631-0.35314111j\n",
            "  0.19081499+0.j        ]\n",
            "(array([[-0.40225592, -0.0630158 , -0.09242919,  0.30701094, -0.06898264,\n",
            "        -0.24268458, -0.52708587,  0.01199853,  0.62281989,  0.04356385],\n",
            "       [-0.37523857, -0.46581788,  0.21336938, -0.10774407,  0.13398586,\n",
            "         0.53026953, -0.3115297 ,  0.2742368 , -0.23528041, -0.24150158],\n",
            "       [-0.38479949, -0.37202267,  0.2816853 ,  0.26455623,  0.04093361,\n",
            "        -0.35679504,  0.32618965, -0.51896054, -0.215186  , -0.11484285],\n",
            "       [-0.36746333, -0.14709751, -0.41504979,  0.20801456, -0.07986891,\n",
            "         0.09422846,  0.37134736,  0.34189538, -0.12175609,  0.58559605],\n",
            "       [-0.23744887,  0.32135388,  0.12621249,  0.07285369, -0.6761809 ,\n",
            "        -0.23505969, -0.0598383 ,  0.32622855, -0.34166617, -0.28266116],\n",
            "       [-0.26998555,  0.40721722,  0.12796365,  0.21413099,  0.13199752,\n",
            "         0.39668053,  0.49123568,  0.05133132,  0.38929298, -0.35885923],\n",
            "       [-0.22817213,  0.45036646, -0.36606302,  0.18620467,  0.1719653 ,\n",
            "         0.24061262, -0.33556647, -0.45418671, -0.41184597,  0.02142886],\n",
            "       [-0.30214098,  0.36236425,  0.59079334, -0.34351372,  0.18104293,\n",
            "        -0.07214119, -0.07702252,  0.0157428 , -0.01109621,  0.51582964],\n",
            "       [-0.27669038, -0.08735035, -0.27746144, -0.67751867, -0.40085027,\n",
            "         0.14038926,  0.11465379, -0.36755   ,  0.2225168 , -0.04066498],\n",
            "       [-0.25515256,  0.09023363, -0.31935775, -0.34352627,  0.52111523,\n",
            "        -0.47782872,  0.06523233,  0.29622853, -0.08983427, -0.32679846]]), array([4.91491741, 1.46414397, 1.30760712, 1.02647   , 0.85499485,\n",
            "       0.75382033, 0.4039777 , 0.29267495, 0.21841857, 0.07583383]), array([[-0.3522974 , -0.35647707, -0.35190104, -0.34715338, -0.19594198,\n",
            "        -0.24103104, -0.25578904, -0.29501092, -0.42311297, -0.27656382],\n",
            "       [-0.02202367, -0.09562813,  0.50618142, -0.3367298 ,  0.35912649,\n",
            "         0.0304644 ,  0.43209345, -0.45129599,  0.03023489, -0.31555784],\n",
            "       [ 0.55913455, -0.02280326,  0.38054225,  0.02874057,  0.17402441,\n",
            "        -0.19568642, -0.46314975,  0.12001674, -0.47764631, -0.12479891],\n",
            "       [-0.0830958 ,  0.01016866,  0.29346672, -0.46640416, -0.43813181,\n",
            "         0.37267567, -0.04644547,  0.51846764,  0.04728862, -0.29204007],\n",
            "       [ 0.18946077,  0.04719636,  0.00981931,  0.32129137, -0.40738801,\n",
            "        -0.5013037 ,  0.18916472, -0.00353837,  0.27000484, -0.57670074],\n",
            "       [-0.04734697, -0.4006719 ,  0.39111855, -0.12665419, -0.32397773,\n",
            "        -0.44931569,  0.12074828,  0.04592122,  0.07608608,  0.58213497],\n",
            "       [ 0.17033835,  0.52888646, -0.02597651, -0.07469191, -0.43623717,\n",
            "         0.06249559,  0.3622197 , -0.26050214, -0.50340854,  0.19574752],\n",
            "       [-0.43219735,  0.58554969,  0.30936886, -0.07183243, -0.00793527,\n",
            "        -0.24721039, -0.47554207, -0.19135254,  0.21043634,  0.0353916 ],\n",
            "       [-0.10204042,  0.26440953, -0.2077699 , -0.32193796,  0.38378687,\n",
            "        -0.49062088,  0.30793441,  0.51940283, -0.14210162, -0.00812428],\n",
            "       [-0.53991303, -0.08881877,  0.31046508,  0.56043416,  0.042499  ,\n",
            "         0.06984354,  0.1693279 ,  0.22295749, -0.43942105, -0.10942123]]))\n",
            "[[-0.87573276  1.42325374  1.98576178 -4.65006022  1.5902846   2.55936932\n",
            "   0.43002177 -3.38179747  0.63638523  2.01240242]\n",
            " [ 0.20001442 -0.08276316 -0.495398    0.32799536  0.57415975  1.42670923\n",
            "  -1.99470548 -0.6540491  -0.34109474  1.2495881 ]\n",
            " [-0.4263469  -0.28120697 -0.96311348  2.81289066 -0.42759494 -1.3509119\n",
            "   0.26653823  2.32924593 -0.99063878 -1.32715958]\n",
            " [-0.58531949 -1.29914746 -0.3904366   4.26491695 -1.95642008 -3.51541039\n",
            "   0.78300282  4.02609062 -0.39233083 -1.94504103]\n",
            " [ 1.68203865 -0.53643944 -0.79813694 -0.46392646 -0.20578541 -0.24603664\n",
            "  -0.53095717  0.6232492   0.62688159 -0.32597577]\n",
            " [-1.12174484 -0.43072509  1.12008917  0.72475494  0.78478516 -1.40584974\n",
            "   1.17526436  0.22087061 -0.25044844 -0.42258608]\n",
            " [ 0.45029749 -1.66992042  0.32627681  1.02408921 -1.82461636  0.27656314\n",
            "   0.24690819  0.9989522   0.97426902 -1.07185696]\n",
            " [ 2.11685667 -1.08493021 -0.44506212  1.10960758 -1.86617527 -0.4454515\n",
            "  -0.45375888  1.31158442  0.26202654 -1.6567701 ]\n",
            " [ 0.04276498  2.1734592  -0.06250306 -3.35687968  1.91637005  1.32740852\n",
            "   0.48519821 -3.02271683 -0.33654173  2.32478722]\n",
            " [-0.52316607  0.69035003 -0.03445218 -0.45970167  0.61691094  0.81915009\n",
            "  -0.2655668  -0.97687469  0.69393742 -0.05506046]]\n",
            "[[3.38590018 2.85290289 4.04181983 3.90722843 2.7398001 ]\n",
            " [2.81459531 2.23449185 3.33523982 3.40659496 2.83174012]\n",
            " [3.0989495  2.50022772 3.93937047 3.89936921 2.85777433]\n",
            " [2.80907664 2.29172561 3.58054829 3.29384143 2.50361792]\n",
            " [2.6114286  1.90370873 2.43654148 2.55501734 1.21324702]\n",
            " [2.35605803 2.23049683 2.44101364 2.6902854  1.24512059]\n",
            " [1.76140836 1.80337579 2.15253838 1.89296296 1.12795923]\n",
            " [2.74829704 2.47560015 2.86818867 3.28537396 1.62058125]\n",
            " [2.30424791 1.85730279 2.50452574 2.46534325 1.87353732]\n",
            " [1.64186212 1.69128697 2.62394858 2.22141062 1.71279132]]\n",
            "[[ 1.00000000e+00 -4.82129993e-15 -2.02888498e-15  1.00233698e-15\n",
            "  -1.39007772e-17  2.91702125e-15  5.25698637e-15 -4.39496696e-15\n",
            "   1.48956832e-15  2.71529092e-15]\n",
            " [ 1.24420660e-15  1.00000000e+00 -3.37563466e-15 -5.53823274e-17\n",
            "   1.12442010e-15  1.88921076e-15  4.65541803e-15 -4.56117987e-15\n",
            "   2.00119934e-15  3.24823730e-15]\n",
            " [-6.69911111e-16 -1.87194582e-15  1.00000000e+00 -4.05111068e-15\n",
            "   2.46302610e-15  4.37141257e-15  4.53452373e-15 -7.59204831e-15\n",
            "   2.67421485e-15  5.68186920e-15]\n",
            " [ 2.01056734e-15 -3.37923474e-15 -1.85554475e-15  1.00000000e+00\n",
            "   1.74500504e-15  2.59419396e-15  6.09552620e-15 -5.73207768e-15\n",
            "  -2.42412219e-15  1.59587362e-15]\n",
            " [-1.14293765e-15 -3.05444933e-15 -3.26757805e-15  1.44871890e-15\n",
            "   1.00000000e+00  3.89223601e-16  2.62346356e-15  4.37027570e-16\n",
            "   3.06465522e-15  1.97795565e-15]\n",
            " [-8.45356398e-16 -2.81687700e-15 -3.44872540e-15  1.62908467e-16\n",
            "   4.99770780e-16  1.00000000e+00  3.42179194e-15 -1.10569366e-15\n",
            "   3.12324496e-15  3.35617888e-15]\n",
            " [ 1.17548233e-15 -3.65366111e-15 -2.28471370e-15  2.32359079e-15\n",
            "  -1.28443784e-16  1.37872549e-16  1.00000000e+00 -6.95816480e-16\n",
            "  -4.84252322e-16 -6.04415195e-17]\n",
            " [-3.18067705e-15 -2.92702051e-15 -3.94198153e-15 -2.92747582e-15\n",
            "   8.64411919e-16  5.52506743e-16  3.22904878e-15  1.00000000e+00\n",
            "   7.82849838e-15  5.35357740e-15]\n",
            " [ 4.89965016e-16 -2.99544429e-15 -1.48390493e-15  1.04701828e-15\n",
            "   1.56847096e-15  1.48600181e-15  4.27770768e-15 -3.93620158e-15\n",
            "   1.00000000e+00  1.09800092e-15]\n",
            " [-4.22766281e-16 -2.69199081e-15 -1.12651065e-15  5.86841433e-16\n",
            "   1.47165087e-15  2.75945598e-15  4.09124937e-15 -4.53377510e-15\n",
            "  -4.09318001e-16  1.00000000e+00]]\n"
          ],
          "name": "stdout"
        }
      ]
    },
    {
      "cell_type": "markdown",
      "metadata": {
        "id": "Qne3RnfOL6-4",
        "colab_type": "text"
      },
      "source": [
        "## End of Part - 1\n",
        " --- --- ---"
      ]
    },
    {
      "cell_type": "markdown",
      "metadata": {
        "id": "LA-m4UYkMPTe",
        "colab_type": "text"
      },
      "source": [
        "## Part - 2\n",
        "---\n",
        "In this part, you will be working with the library ```pandas```. Import this library with an alias name ```pd```."
      ]
    },
    {
      "cell_type": "code",
      "metadata": {
        "id": "i8z7TpnZSIms",
        "colab_type": "code",
        "colab": {}
      },
      "source": [
        "# Initial imports\n",
        "import numpy as np\n",
        "import matplotlib.pyplot as plt\n",
        "import pandas as pd"
      ],
      "execution_count": 0,
      "outputs": []
    },
    {
      "cell_type": "markdown",
      "metadata": {
        "id": "2v-HkHnyuQ3X",
        "colab_type": "text"
      },
      "source": [
        "Download dataset from: http://biostat.mc.vanderbilt.edu/wiki/pub/Main/DataSets/titanic3.csv\n",
        "Read the data and display the first 5 rows"
      ]
    },
    {
      "cell_type": "code",
      "metadata": {
        "id": "LinX5ywNTUIm",
        "colab_type": "code",
        "outputId": "c2541ec6-b6f2-48ad-b831-ad83e4648e92",
        "colab": {
          "base_uri": "https://localhost:8080/",
          "height": 195
        }
      },
      "source": [
        "#Download dataset from: http://biostat.mc.vanderbilt.edu/wiki/pub/Main/DataSets/titanic3.csv\n",
        "\n",
        "file_url = \"http://biostat.mc.vanderbilt.edu/wiki/pub/Main/DataSets/titanic3.csv\"\n",
        "data = pd.read_csv(file_url)\n",
        "data.head(5)"
      ],
      "execution_count": 0,
      "outputs": [
        {
          "output_type": "execute_result",
          "data": {
            "text/html": [
              "<div>\n",
              "<style scoped>\n",
              "    .dataframe tbody tr th:only-of-type {\n",
              "        vertical-align: middle;\n",
              "    }\n",
              "\n",
              "    .dataframe tbody tr th {\n",
              "        vertical-align: top;\n",
              "    }\n",
              "\n",
              "    .dataframe thead th {\n",
              "        text-align: right;\n",
              "    }\n",
              "</style>\n",
              "<table border=\"1\" class=\"dataframe\">\n",
              "  <thead>\n",
              "    <tr style=\"text-align: right;\">\n",
              "      <th></th>\n",
              "      <th>pclass</th>\n",
              "      <th>survived</th>\n",
              "      <th>name</th>\n",
              "      <th>sex</th>\n",
              "      <th>age</th>\n",
              "      <th>sibsp</th>\n",
              "      <th>parch</th>\n",
              "      <th>ticket</th>\n",
              "      <th>fare</th>\n",
              "      <th>cabin</th>\n",
              "      <th>embarked</th>\n",
              "      <th>boat</th>\n",
              "      <th>body</th>\n",
              "      <th>home.dest</th>\n",
              "    </tr>\n",
              "  </thead>\n",
              "  <tbody>\n",
              "    <tr>\n",
              "      <th>0</th>\n",
              "      <td>1</td>\n",
              "      <td>1</td>\n",
              "      <td>Allen, Miss. Elisabeth Walton</td>\n",
              "      <td>female</td>\n",
              "      <td>29.00</td>\n",
              "      <td>0</td>\n",
              "      <td>0</td>\n",
              "      <td>24160</td>\n",
              "      <td>211.3375</td>\n",
              "      <td>B5</td>\n",
              "      <td>S</td>\n",
              "      <td>2</td>\n",
              "      <td>NaN</td>\n",
              "      <td>St Louis, MO</td>\n",
              "    </tr>\n",
              "    <tr>\n",
              "      <th>1</th>\n",
              "      <td>1</td>\n",
              "      <td>1</td>\n",
              "      <td>Allison, Master. Hudson Trevor</td>\n",
              "      <td>male</td>\n",
              "      <td>0.92</td>\n",
              "      <td>1</td>\n",
              "      <td>2</td>\n",
              "      <td>113781</td>\n",
              "      <td>151.5500</td>\n",
              "      <td>C22 C26</td>\n",
              "      <td>S</td>\n",
              "      <td>11</td>\n",
              "      <td>NaN</td>\n",
              "      <td>Montreal, PQ / Chesterville, ON</td>\n",
              "    </tr>\n",
              "    <tr>\n",
              "      <th>2</th>\n",
              "      <td>1</td>\n",
              "      <td>0</td>\n",
              "      <td>Allison, Miss. Helen Loraine</td>\n",
              "      <td>female</td>\n",
              "      <td>2.00</td>\n",
              "      <td>1</td>\n",
              "      <td>2</td>\n",
              "      <td>113781</td>\n",
              "      <td>151.5500</td>\n",
              "      <td>C22 C26</td>\n",
              "      <td>S</td>\n",
              "      <td>NaN</td>\n",
              "      <td>NaN</td>\n",
              "      <td>Montreal, PQ / Chesterville, ON</td>\n",
              "    </tr>\n",
              "    <tr>\n",
              "      <th>3</th>\n",
              "      <td>1</td>\n",
              "      <td>0</td>\n",
              "      <td>Allison, Mr. Hudson Joshua Creighton</td>\n",
              "      <td>male</td>\n",
              "      <td>30.00</td>\n",
              "      <td>1</td>\n",
              "      <td>2</td>\n",
              "      <td>113781</td>\n",
              "      <td>151.5500</td>\n",
              "      <td>C22 C26</td>\n",
              "      <td>S</td>\n",
              "      <td>NaN</td>\n",
              "      <td>135.0</td>\n",
              "      <td>Montreal, PQ / Chesterville, ON</td>\n",
              "    </tr>\n",
              "    <tr>\n",
              "      <th>4</th>\n",
              "      <td>1</td>\n",
              "      <td>0</td>\n",
              "      <td>Allison, Mrs. Hudson J C (Bessie Waldo Daniels)</td>\n",
              "      <td>female</td>\n",
              "      <td>25.00</td>\n",
              "      <td>1</td>\n",
              "      <td>2</td>\n",
              "      <td>113781</td>\n",
              "      <td>151.5500</td>\n",
              "      <td>C22 C26</td>\n",
              "      <td>S</td>\n",
              "      <td>NaN</td>\n",
              "      <td>NaN</td>\n",
              "      <td>Montreal, PQ / Chesterville, ON</td>\n",
              "    </tr>\n",
              "  </tbody>\n",
              "</table>\n",
              "</div>"
            ],
            "text/plain": [
              "   pclass  survived  ...   body                        home.dest\n",
              "0       1         1  ...    NaN                     St Louis, MO\n",
              "1       1         1  ...    NaN  Montreal, PQ / Chesterville, ON\n",
              "2       1         0  ...    NaN  Montreal, PQ / Chesterville, ON\n",
              "3       1         0  ...  135.0  Montreal, PQ / Chesterville, ON\n",
              "4       1         0  ...    NaN  Montreal, PQ / Chesterville, ON\n",
              "\n",
              "[5 rows x 14 columns]"
            ]
          },
          "metadata": {
            "tags": []
          },
          "execution_count": 13
        }
      ]
    },
    {
      "cell_type": "markdown",
      "metadata": {
        "id": "vTk1-mF5WYFN",
        "colab_type": "text"
      },
      "source": [
        "### Preprocessing of the Dataset"
      ]
    },
    {
      "cell_type": "markdown",
      "metadata": {
        "id": "kx9UrI9WWt17",
        "colab_type": "text"
      },
      "source": [
        "\n",
        "\n",
        "---\n",
        "\n",
        "\n",
        "**1. Convert the categorical values of columns 'sex', 'embarked', 'pclass' into dummy values and add them into titanic_data_new DataFrame**\n",
        "\n",
        "\n",
        "\n",
        "\n",
        "---\n",
        "\n"
      ]
    },
    {
      "cell_type": "code",
      "metadata": {
        "id": "AwDh9njbZ0QU",
        "colab_type": "code",
        "outputId": "1da7cb40-fdfb-41e8-e460-7ee1f5f1691b",
        "colab": {
          "base_uri": "https://localhost:8080/",
          "height": 252
        }
      },
      "source": [
        "sex = pd.get_dummies(data['sex'])\n",
        "embarked = pd.get_dummies(data['embarked'])\n",
        "pclass = pd.get_dummies(data['pclass'])\n",
        "titanic_data_new = pd.concat([sex, embarked, pclass], axis = 1)\n",
        "print(titanic_data_new)"
      ],
      "execution_count": 0,
      "outputs": [
        {
          "output_type": "stream",
          "text": [
            "      female  male  C  Q  S  1  2  3\n",
            "0          1     0  0  0  1  1  0  0\n",
            "1          0     1  0  0  1  1  0  0\n",
            "2          1     0  0  0  1  1  0  0\n",
            "3          0     1  0  0  1  1  0  0\n",
            "4          1     0  0  0  1  1  0  0\n",
            "...      ...   ... .. .. .. .. .. ..\n",
            "1304       1     0  1  0  0  0  0  1\n",
            "1305       1     0  1  0  0  0  0  1\n",
            "1306       0     1  1  0  0  0  0  1\n",
            "1307       0     1  1  0  0  0  0  1\n",
            "1308       0     1  0  0  1  0  0  1\n",
            "\n",
            "[1309 rows x 8 columns]\n"
          ],
          "name": "stdout"
        }
      ]
    },
    {
      "cell_type": "markdown",
      "metadata": {
        "id": "Z9bxOfzDbY-n",
        "colab_type": "text"
      },
      "source": [
        "\n",
        "\n",
        "---\n",
        "\n",
        "\n",
        "**2. Fill the missing data in Age and Fare columns with the mean value of the respected column then add these columns to titanic_data_new**\n",
        "\n",
        "\n",
        "---\n",
        "\n"
      ]
    },
    {
      "cell_type": "code",
      "metadata": {
        "id": "DNx7Pr0ehhAs",
        "colab_type": "code",
        "outputId": "eeab5b1b-8bc9-40cd-ceaa-3ca5dfdab7b7",
        "colab": {
          "base_uri": "https://localhost:8080/",
          "height": 252
        }
      },
      "source": [
        "age = data['age'].fillna(data.age.mean())\n",
        "fare = data['fare'].fillna(data.fare.mean())\n",
        "titanic_data_new = pd.concat([titanic_data_new,age,fare],axis=1)\n",
        "print(titanic_data_new)"
      ],
      "execution_count": 0,
      "outputs": [
        {
          "output_type": "stream",
          "text": [
            "      female  male  C  Q  S  1  2  3        age      fare\n",
            "0          1     0  0  0  1  1  0  0  29.000000  211.3375\n",
            "1          0     1  0  0  1  1  0  0   0.920000  151.5500\n",
            "2          1     0  0  0  1  1  0  0   2.000000  151.5500\n",
            "3          0     1  0  0  1  1  0  0  30.000000  151.5500\n",
            "4          1     0  0  0  1  1  0  0  25.000000  151.5500\n",
            "...      ...   ... .. .. .. .. .. ..        ...       ...\n",
            "1304       1     0  1  0  0  0  0  1  14.500000   14.4542\n",
            "1305       1     0  1  0  0  0  0  1  29.881138   14.4542\n",
            "1306       0     1  1  0  0  0  0  1  26.500000    7.2250\n",
            "1307       0     1  1  0  0  0  0  1  27.000000    7.2250\n",
            "1308       0     1  0  0  1  0  0  1  29.000000    7.8750\n",
            "\n",
            "[1309 rows x 10 columns]\n"
          ],
          "name": "stdout"
        }
      ]
    },
    {
      "cell_type": "markdown",
      "metadata": {
        "id": "SlRzKfhxkd1M",
        "colab_type": "text"
      },
      "source": [
        "###Normalization\n",
        "\n",
        "\n",
        "---\n",
        "\n",
        "\n",
        "\n",
        "1. Normalize the columns which have numerical data\n",
        "\n",
        "\n",
        "\n",
        "---\n",
        "\n"
      ]
    },
    {
      "cell_type": "code",
      "metadata": {
        "id": "jo0rXWJHWeDu",
        "colab_type": "code",
        "colab": {}
      },
      "source": [
        "## 'age' and 'fare' are the two columns having numerical data.\n",
        "## \"normalization = min-max scaling\" from the link: https://www.analyticsvidhya.com/blog/2020/04/feature-scaling-machine-learning-normalization-standardization/\n",
        "\n",
        "age_norm = (age-age.min())/(age.max()-age.min())\n",
        "fare_norm = (fare-fare.min())/(fare.max()-fare.min())"
      ],
      "execution_count": 0,
      "outputs": []
    },
    {
      "cell_type": "markdown",
      "metadata": {
        "id": "wB9-5x83mFAO",
        "colab_type": "text"
      },
      "source": [
        "\n",
        "\n",
        "---\n",
        "2. Drop the original age, fare columns\n",
        "3. Append the normalized columns to the titanic_data_new DataFrame.\n",
        "\n",
        "\n",
        "\n",
        "---\n",
        "\n"
      ]
    },
    {
      "cell_type": "code",
      "metadata": {
        "id": "Kb00kM0onQJy",
        "colab_type": "code",
        "outputId": "c01cb821-9b68-4cc8-d532-ad224d6dc442",
        "colab": {
          "base_uri": "https://localhost:8080/",
          "height": 195
        }
      },
      "source": [
        "titanic_data_new = titanic_data_new.drop(columns=['age','fare'])\n",
        "titanic_data_new = pd.concat([titanic_data_new,age_norm,fare_norm],axis=1) \n",
        "titanic_data_new.head()"
      ],
      "execution_count": 0,
      "outputs": [
        {
          "output_type": "execute_result",
          "data": {
            "text/html": [
              "<div>\n",
              "<style scoped>\n",
              "    .dataframe tbody tr th:only-of-type {\n",
              "        vertical-align: middle;\n",
              "    }\n",
              "\n",
              "    .dataframe tbody tr th {\n",
              "        vertical-align: top;\n",
              "    }\n",
              "\n",
              "    .dataframe thead th {\n",
              "        text-align: right;\n",
              "    }\n",
              "</style>\n",
              "<table border=\"1\" class=\"dataframe\">\n",
              "  <thead>\n",
              "    <tr style=\"text-align: right;\">\n",
              "      <th></th>\n",
              "      <th>female</th>\n",
              "      <th>male</th>\n",
              "      <th>C</th>\n",
              "      <th>Q</th>\n",
              "      <th>S</th>\n",
              "      <th>1</th>\n",
              "      <th>2</th>\n",
              "      <th>3</th>\n",
              "      <th>age</th>\n",
              "      <th>fare</th>\n",
              "    </tr>\n",
              "  </thead>\n",
              "  <tbody>\n",
              "    <tr>\n",
              "      <th>0</th>\n",
              "      <td>1</td>\n",
              "      <td>0</td>\n",
              "      <td>0</td>\n",
              "      <td>0</td>\n",
              "      <td>1</td>\n",
              "      <td>1</td>\n",
              "      <td>0</td>\n",
              "      <td>0</td>\n",
              "      <td>0.361142</td>\n",
              "      <td>0.412503</td>\n",
              "    </tr>\n",
              "    <tr>\n",
              "      <th>1</th>\n",
              "      <td>0</td>\n",
              "      <td>1</td>\n",
              "      <td>0</td>\n",
              "      <td>0</td>\n",
              "      <td>1</td>\n",
              "      <td>1</td>\n",
              "      <td>0</td>\n",
              "      <td>0</td>\n",
              "      <td>0.009395</td>\n",
              "      <td>0.295806</td>\n",
              "    </tr>\n",
              "    <tr>\n",
              "      <th>2</th>\n",
              "      <td>1</td>\n",
              "      <td>0</td>\n",
              "      <td>0</td>\n",
              "      <td>0</td>\n",
              "      <td>1</td>\n",
              "      <td>1</td>\n",
              "      <td>0</td>\n",
              "      <td>0</td>\n",
              "      <td>0.022924</td>\n",
              "      <td>0.295806</td>\n",
              "    </tr>\n",
              "    <tr>\n",
              "      <th>3</th>\n",
              "      <td>0</td>\n",
              "      <td>1</td>\n",
              "      <td>0</td>\n",
              "      <td>0</td>\n",
              "      <td>1</td>\n",
              "      <td>1</td>\n",
              "      <td>0</td>\n",
              "      <td>0</td>\n",
              "      <td>0.373669</td>\n",
              "      <td>0.295806</td>\n",
              "    </tr>\n",
              "    <tr>\n",
              "      <th>4</th>\n",
              "      <td>1</td>\n",
              "      <td>0</td>\n",
              "      <td>0</td>\n",
              "      <td>0</td>\n",
              "      <td>1</td>\n",
              "      <td>1</td>\n",
              "      <td>0</td>\n",
              "      <td>0</td>\n",
              "      <td>0.311036</td>\n",
              "      <td>0.295806</td>\n",
              "    </tr>\n",
              "  </tbody>\n",
              "</table>\n",
              "</div>"
            ],
            "text/plain": [
              "   female  male  C  Q  S  1  2  3       age      fare\n",
              "0       1     0  0  0  1  1  0  0  0.361142  0.412503\n",
              "1       0     1  0  0  1  1  0  0  0.009395  0.295806\n",
              "2       1     0  0  0  1  1  0  0  0.022924  0.295806\n",
              "3       0     1  0  0  1  1  0  0  0.373669  0.295806\n",
              "4       1     0  0  0  1  1  0  0  0.311036  0.295806"
            ]
          },
          "metadata": {
            "tags": []
          },
          "execution_count": 17
        }
      ]
    },
    {
      "cell_type": "markdown",
      "metadata": {
        "id": "uLxN3PozntKe",
        "colab_type": "text"
      },
      "source": [
        "###Plotting\n",
        "1. plot the age against the ID(continuous)\n",
        "2. plot the fare against the ID(scatter)"
      ]
    },
    {
      "cell_type": "code",
      "metadata": {
        "id": "T30mT4nT4ao-",
        "colab_type": "code",
        "outputId": "a3460dc2-c771-4f1e-c91d-1d3fd03b8d1e",
        "colab": {
          "base_uri": "https://localhost:8080/",
          "height": 591
        }
      },
      "source": [
        "titanic_data_new['index']=titanic_data_new.index\n",
        "plt.figure()\n",
        "titanic_data_new.plot(kind='line', x='index',y='age')\n",
        "plt.figure()\n",
        "titanic_data_new.plot(kind='scatter',x='index', y='fare')"
      ],
      "execution_count": 0,
      "outputs": [
        {
          "output_type": "execute_result",
          "data": {
            "text/plain": [
              "<matplotlib.axes._subplots.AxesSubplot at 0x7f62a92d6550>"
            ]
          },
          "metadata": {
            "tags": []
          },
          "execution_count": 18
        },
        {
          "output_type": "display_data",
          "data": {
            "text/plain": [
              "<Figure size 432x288 with 0 Axes>"
            ]
          },
          "metadata": {
            "tags": []
          }
        },
        {
          "output_type": "display_data",
          "data": {
            "image/png": "[encoded data removed]",
            "text/plain": [
              "<Figure size 432x288 with 1 Axes>"
            ]
          },
          "metadata": {
            "tags": [],
            "needs_background": "light"
          }
        },
        {
          "output_type": "display_data",
          "data": {
            "text/plain": [
              "<Figure size 432x288 with 0 Axes>"
            ]
          },
          "metadata": {
            "tags": []
          }
        },
        {
          "output_type": "display_data",
          "data": {
            "image/png": "[encoded data removed]",
            "text/plain": [
              "<Figure size 432x288 with 1 Axes>"
            ]
          },
          "metadata": {
            "tags": [],
            "needs_background": "light"
          }
        }
      ]
    },
    {
      "cell_type": "markdown",
      "metadata": {
        "id": "LQr7y6eevTvy",
        "colab_type": "text"
      },
      "source": [
        "## End of Part - 2\n",
        "---"
      ]
    },
    {
      "cell_type": "markdown",
      "metadata": {
        "id": "TWhZcKvfvW2B",
        "colab_type": "text"
      },
      "source": [
        "## Part - 3\n",
        "---"
      ]
    },
    {
      "cell_type": "markdown",
      "metadata": {
        "id": "8bY4H9DszQ2S",
        "colab_type": "text"
      },
      "source": [
        "In this part, you will work with the library ```matplotlib```. Import the ```pyplot``` from ```matplotlib``` with an alias name ```plt```."
      ]
    },
    {
      "cell_type": "code",
      "metadata": {
        "id": "hPN6qctRzknT",
        "colab_type": "code",
        "colab": {}
      },
      "source": [
        "from matplotlib import pyplot as plt"
      ],
      "execution_count": 0,
      "outputs": []
    },
    {
      "cell_type": "markdown",
      "metadata": {
        "id": "fQ6KX_Aezlub",
        "colab_type": "text"
      },
      "source": [
        "Plot the sine function with domain in $[-3\\pi,3\\pi]$. Label the axes appropriately. Add title $\\sin(x)$. Use latex formatting while adding the title. Set the plot size to (10,10)"
      ]
    },
    {
      "cell_type": "code",
      "metadata": {
        "id": "0tA3J5mA1cQ0",
        "colab_type": "code",
        "outputId": "8e80041f-cb23-4e61-f15e-af92c40a6ff5",
        "colab": {
          "base_uri": "https://localhost:8080/",
          "height": 623
        }
      },
      "source": [
        "x = np.linspace(-3*np.pi,3*np.pi,1000)\n",
        "plt.figure(figsize=(10,10))\n",
        "plt.plot(x,np.sin(x))\n",
        "plt.title(r'$\\sin(x)$')\n",
        "plt.xlabel('x')\n",
        "plt.ylabel('$\\sin(x)$')\n",
        "plt.show()"
      ],
      "execution_count": 0,
      "outputs": [
        {
          "output_type": "display_data",
          "data": {
            "image/png": "[encoded data removed]",
            "text/plain": [
              "<Figure size 720x720 with 1 Axes>"
            ]
          },
          "metadata": {
            "tags": [],
            "needs_background": "light"
          }
        }
      ]
    },
    {
      "cell_type": "markdown",
      "metadata": {
        "id": "6KV7RqMm1d8P",
        "colab_type": "text"
      },
      "source": [
        "Plot $\\sin(x)$ and its spectrum, $\\cos(x)$ and its spectrum in a single plot, in the domain $[-2\\pi,2\\pi]$. Label the plot appropriately."
      ]
    },
    {
      "cell_type": "code",
      "metadata": {
        "id": "-OJuY0HO12Oo",
        "colab_type": "code",
        "outputId": "32d220ad-77c0-4e59-c51c-48c1f39d36c1",
        "colab": {
          "base_uri": "https://localhost:8080/",
          "height": 1000
        }
      },
      "source": [
        "X = np.linspace(-2*np.pi,2*np.pi,1000)\n",
        "sinx = np.sin(X)\n",
        "cosx = np.cos(X)\n",
        "sinf = np.fft.fft(sinx)\n",
        "cosf = np.fft.fft(cosx)\n",
        "freqs = np.fft.fftfreq(X.shape[0])\n",
        "plt.figure(num=1,figsize=(10,10))\n",
        "plt.subplot(1,2,1)\n",
        "plt.plot(X,sinx)\n",
        "plt.title(r'$\\sin(x)$')\n",
        "plt.xlabel('x')\n",
        "plt.subplot(1,2,2)\n",
        "plt.plot(freqs[(freqs<0.05) & (freqs>-0.05)],sinf[(freqs<0.05) & (freqs>-0.05)])\n",
        "plt.title('Fourier Transform')\n",
        "plt.xlabel('freq')\n",
        "plt.show()\n",
        "plt.figure(num=2,figsize=(10,10))\n",
        "plt.subplot(1,2,1)\n",
        "plt.plot(X,cosx)\n",
        "plt.title(r'$\\cos(x)$')\n",
        "plt.xlabel('x')\n",
        "plt.subplot(1,2,2)\n",
        "plt.plot(freqs[(freqs<0.05) & (freqs>-0.05)],cosf[(freqs<0.05) & (freqs>-0.05)])\n",
        "plt.title('Fourier Transform')\n",
        "plt.xlabel('freq')\n",
        "plt.show()"
      ],
      "execution_count": 0,
      "outputs": [
        {
          "output_type": "stream",
          "text": [
            "/usr/local/lib/python3.6/dist-packages/numpy/core/_asarray.py:85: ComplexWarning: Casting complex values to real discards the imaginary part\n",
            "  return array(a, dtype, copy=False, order=order)\n"
          ],
          "name": "stderr"
        },
        {
          "output_type": "display_data",
          "data": {
            "image/png": "[encoded data removed]",
            "text/plain": [
              "<Figure size 720x720 with 2 Axes>"
            ]
          },
          "metadata": {
            "tags": [],
            "needs_background": "light"
          }
        },
        {
          "output_type": "stream",
          "text": [
            "/usr/local/lib/python3.6/dist-packages/numpy/core/_asarray.py:85: ComplexWarning: Casting complex values to real discards the imaginary part\n",
            "  return array(a, dtype, copy=False, order=order)\n"
          ],
          "name": "stderr"
        },
        {
          "output_type": "display_data",
          "data": {
            "image/png": "[encoded data removed]",
            "text/plain": [
              "<Figure size 720x720 with 2 Axes>"
            ]
          },
          "metadata": {
            "tags": [],
            "needs_background": "light"
          }
        }
      ]
    },
    {
      "cell_type": "markdown",
      "metadata": {
        "id": "1S6ZRm6B18ZF",
        "colab_type": "text"
      },
      "source": [
        "## End of Part - 3\n",
        "---"
      ]
    },
    {
      "cell_type": "markdown",
      "metadata": {
        "id": "MUucpzXBl096",
        "colab_type": "text"
      },
      "source": [
        "Create a Github repository with the name ***SHALA2020*** and save this assignment there."
      ]
    }
  ]
}